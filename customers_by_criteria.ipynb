{
 "cells": [
  {
   "cell_type": "code",
   "execution_count": 1,
   "metadata": {},
   "outputs": [],
   "source": [
    "import numpy as np\n",
    "import pandas as pd"
   ]
  },
  {
   "cell_type": "code",
   "execution_count": 2,
   "metadata": {},
   "outputs": [],
   "source": [
    "q = pd.read_csv('quitters.txt')"
   ]
  },
  {
   "cell_type": "code",
   "execution_count": 8,
   "metadata": {},
   "outputs": [
    {
     "data": {
      "text/html": [
       "<div>\n",
       "<style scoped>\n",
       "    .dataframe tbody tr th:only-of-type {\n",
       "        vertical-align: middle;\n",
       "    }\n",
       "\n",
       "    .dataframe tbody tr th {\n",
       "        vertical-align: top;\n",
       "    }\n",
       "\n",
       "    .dataframe thead th {\n",
       "        text-align: right;\n",
       "    }\n",
       "</style>\n",
       "<table border=\"1\" class=\"dataframe\">\n",
       "  <thead>\n",
       "    <tr style=\"text-align: right;\">\n",
       "      <th></th>\n",
       "      <th>{'434ed3ff316d1b5ba01eca5bc62d65d0'</th>\n",
       "      <th>'f3ffcee1c83a682200a3ca623666e783'</th>\n",
       "      <th>'6a77be83fca89025ae9be319f9830b7c'</th>\n",
       "      <th>'3b4a64d2ea2abfdc56b94938b89c2a9f'</th>\n",
       "      <th>'610b2f1e79eaed3516751ad0d89ff4d4'</th>\n",
       "      <th>'b488148586d680c4a4a0b5bdc2583f84'</th>\n",
       "      <th>'5ef2c9ed9159cd41b21afd4211d62718'</th>\n",
       "      <th>'db96e949dd525804599a5a1ea4900901'</th>\n",
       "      <th>'616047f56ab6418bca0f0f1c195c61d4'</th>\n",
       "      <th>'b72521486431cdee12c7f8a341c5ec94'</th>\n",
       "      <th>...</th>\n",
       "      <th>'2b07e9921cb5712736a51c01343ffec9'</th>\n",
       "      <th>'b75b8b1a903d54ddf07bd087915d3dca'</th>\n",
       "      <th>'351100e763f1b29a48741dc222246cd5'</th>\n",
       "      <th>'d6477b1499760990cb4f463e9b43dff8'</th>\n",
       "      <th>'5ee86d1e4aef79f5067caf07de0dc208'</th>\n",
       "      <th>'cd0e9a98237e5c58494735500dd4d964'</th>\n",
       "      <th>'5e5fe17b57c2623a3e185bfca6587385'</th>\n",
       "      <th>'496cc3bd9501905987f88b700f5f3af3'</th>\n",
       "      <th>'7cb055c2d5fb53e75eea758e52af104e'</th>\n",
       "      <th>'e2096136dc46e5453c96ca57ecca7c65'}</th>\n",
       "    </tr>\n",
       "  </thead>\n",
       "  <tbody>\n",
       "  </tbody>\n",
       "</table>\n",
       "<p>0 rows × 3217 columns</p>\n",
       "</div>"
      ],
      "text/plain": [
       "Empty DataFrame\n",
       "Columns: [{'434ed3ff316d1b5ba01eca5bc62d65d0',  'f3ffcee1c83a682200a3ca623666e783',  '6a77be83fca89025ae9be319f9830b7c',  '3b4a64d2ea2abfdc56b94938b89c2a9f',  '610b2f1e79eaed3516751ad0d89ff4d4',  'b488148586d680c4a4a0b5bdc2583f84',  '5ef2c9ed9159cd41b21afd4211d62718',  'db96e949dd525804599a5a1ea4900901',  '616047f56ab6418bca0f0f1c195c61d4',  'b72521486431cdee12c7f8a341c5ec94',  '5b398d627fb13dfa0175ea872ed4237a',  '142cb599444121528e8454ae8ea049ee',  '4824e5c49272d64b04792793b41c3602',  'cf0a03cd5036d5dddc83d5a64b7efa25',  '9c2728e1ac9b94948a0b0c23adc559d1',  'da52c600ddfdab6e97a26dbc4a5c39e8',  'bab143647c947cb522697694191b8b6c',  '05f7c4bfa4664434ab440ce2a4cfc2be',  '858e3d93073385fcb6fac23263861dc4',  '686cc9f08e274ec87af3f06627a8a828',  'fcfabafc99b977ebaf6778a9894f5c5a',  '77efc156e70591959616e4af506a47bf',  '91698f91485deb467032dc6c8cbec675',  'f2b32a9d57410f6f13b7a2a629a8d50c',  '2cd3f017704d859e9ef292bea4555582',  'db487f2792f3cd39061377a21ba59c96',  'a0097d77b267eed5f0d61109ad64f950',  '0da4e212c2f41c1b95c64592fed5a010',  '1224ad64d4b56af3a79e26d0165623e0',  '68d8404e8234dcc7c28aa321d66c0499',  '27152ba5484a025194feb376c7b25bcc',  '6c60cb0a81d6b61ed9afefab67893fc7',  '2c6fc4887697ce712f52a1ab27f24c4f',  '5c447e3d542d62618208b712b9453e7e',  '0fe905f7651a4200e0145161aafaf135',  'fff3ef21e6fa2a624602820b97f9246c',  'fa9c9d5a4bbd48f46fc0131bcdd85566',  '26aa8831644c0cac2689abe79b0ec0c9',  'eb8da095b9315e9e0b4c00378f712234',  'c67637e307edbcb33334c3d9472d8739',  '27e45f16ffe663395e39b6d2c8d1e6e7',  '16fe073931ca0d60f685b5f8d04c735d',  '17886e2c45330f779785f908c08329dc',  '922e3ad07904c3fc4a74069f8ed78b09',  'a57daa46ea77a4c2b16ba67643fdf559',  '6789fd441776cc1d95b4a6e88b8b392c',  '667a5c8f3ae8ff889769dc6a8f3f1275',  '15f4826146e220dde92dda3fb8ab90d9',  '652088ee64d9bcadd28dde7ba7ea1ada',  '7fa7b044af7eb8937b32096d6e14f5da',  'd56fd499c870caf6c1ba1572c6183d97',  'a7759e65d2c852c06f50a47f43429b26',  'be583ac5f8357f4db837d686fd4a9eb5',  '457656530dc7f641938d35b9baf38128',  '22d0f22b4d71fbd9ec44bdfe383b3a7f',  'f042e2b77dbf5cf9d132552e7d1e35a2',  'e04b696481e16dbdd4f7f47e96ad2eb8',  '392a82eebbe4a0c19a2cdf5fe31126c6',  '1ed1749bf4ae1b984b223d4f7df68613',  '132d5ba2f33a90f809578c3d4b4b24a9',  'cb809c8b6b045ce70e562d3d83eed161',  '3b4c80e172d193edaad6ec8c75c6730c',  '9e3c1a5f9fe927c07e16c23f839545de',  '26d00af2920644e5ce1d0ce1db2addc6',  'acd34edd8d37554afb40b80c31779e82',  'ca4547d352aa8da4702a9199dbb9ef8c',  '0a74639cf9e048e255b0e533e1046e0b',  '6d21ccd6ce2dc1e57898d14404243dda',  'e166a1e23debb7f6923c104d84ee0eb0',  '3e93c27905978ebacc7720b88b5c57f1',  'e7835144db51ec523fec6e35ed82f115',  '225860a09e583986bd4f7d24c1d61d34',  'cbdfcd194d1ff7e10935f772d0d39c7f',  '92b08dc03805a4e720ba8d488e2d09fb',  'a501992666c3086f12acfae36e61e8f6',  'dedd06134468a9b1ec6184f9bdbaa777',  '2a997944043c0cc567b101b4bd0b8173',  'e5cfe6821d06bbbab621f2fc50bd5912',  '9b005300872182e8d71b533a495d6586',  '1abcef35f4608c2a3de77222a4625347',  'e6932c973d543d865b2e695f2753488e',  'c6c1c94c8d52aba022481982a6a069d5',  '9710453a53c4f3e8191d1592ed02f8b8',  '2b9fd85ad10d1bedfaa0e7762c5cd37f',  '7c16328e89643d80a15b49b9305cdf7d',  '612edf7844ba89f0b1e491ca09fe83cf',  '1970985d6140271fbe2dac85f2a2bda1',  '85a328143fbd49721ea9e11ef5af4745',  '8b0a20aa747f17890ce487daa1ea7b0a',  '6c17d073f36b9b1f7c9e5f7b595412e3',  '2e9ef2cc94faa753f14b189cc9c11ff9',  'acb69c935f73f2623b675671fe4d3da9',  '7f93e7ea513741efca5c7298519133d4',  '24b57493ec5f1aa36b1686aff4da058e',  '66e82be7820713e6ef5b868826907368',  'd7b377ac3fa9cfa9c9dc6a65a4e77294',  'f8ee3c3c58359ceee99c1f0b725e2be8',  '4e7647be049957ff563d290215469825',  '1faa455670f0b65cf695f8a58ef7a6c4',  'f97d4feb5eba1fb9a3f0505400088c9f', ...]\n",
       "Index: []\n",
       "\n",
       "[0 rows x 3217 columns]"
      ]
     },
     "execution_count": 8,
     "metadata": {},
     "output_type": "execute_result"
    }
   ],
   "source": [
    "q"
   ]
  },
  {
   "cell_type": "code",
   "execution_count": 56,
   "metadata": {},
   "outputs": [],
   "source": [
    "a = np.loadtxt('quitters2.txt', str)"
   ]
  },
  {
   "cell_type": "code",
   "execution_count": 57,
   "metadata": {},
   "outputs": [
    {
     "data": {
      "text/plain": [
       "array(['{434ed3ff316d1b5ba01eca5bc62d65d0',\n",
       "       '3eed94ee75642f5d4471ed0bbd28f7b8',\n",
       "       '99b12bb00442255fa73ec904dc6fd19c', ...,\n",
       "       '5ee86d1e4aef79f5067caf07de0dc208',\n",
       "       'cd0e9a98237e5c58494735500dd4d964',\n",
       "       '56e9b288b44e39354546fc96b4b50919}'], dtype='<U33')"
      ]
     },
     "execution_count": 57,
     "metadata": {},
     "output_type": "execute_result"
    }
   ],
   "source": [
    "a"
   ]
  },
  {
   "cell_type": "code",
   "execution_count": 58,
   "metadata": {},
   "outputs": [
    {
     "data": {
      "text/plain": [
       "(10772,)"
      ]
     },
     "execution_count": 58,
     "metadata": {},
     "output_type": "execute_result"
    }
   ],
   "source": [
    "a.shape"
   ]
  },
  {
   "cell_type": "code",
   "execution_count": 59,
   "metadata": {},
   "outputs": [],
   "source": [
    "data_dir = 'hack_data'\n",
    "trans = pd.read_parquet(data_dir + '/transactions.parquet', engine='pyarrow', use_threads=True)"
   ]
  },
  {
   "cell_type": "code",
   "execution_count": 60,
   "metadata": {},
   "outputs": [],
   "source": [
    "trans_clear = trans[trans['client_id'].isin(a)]"
   ]
  },
  {
   "cell_type": "code",
   "execution_count": 61,
   "metadata": {},
   "outputs": [],
   "source": [
    "data_to_use = trans_clear"
   ]
  },
  {
   "cell_type": "code",
   "execution_count": 62,
   "metadata": {},
   "outputs": [
    {
     "name": "stderr",
     "output_type": "stream",
     "text": [
      "<ipython-input-62-ae70c92ad241>:1: SettingWithCopyWarning: \n",
      "A value is trying to be set on a copy of a slice from a DataFrame.\n",
      "Try using .loc[row_indexer,col_indexer] = value instead\n",
      "\n",
      "See the caveats in the documentation: https://pandas.pydata.org/pandas-docs/stable/user_guide/indexing.html#returning-a-view-versus-a-copy\n",
      "  data_to_use['chq_position'] = data_to_use['chq_position'].astype(int)\n"
     ]
    }
   ],
   "source": [
    "data_to_use['chq_position'] = data_to_use['chq_position'].astype(int)"
   ]
  },
  {
   "cell_type": "code",
   "execution_count": 63,
   "metadata": {},
   "outputs": [
    {
     "data": {
      "text/plain": [
       "0        0000d48a8891cd462fdf01ea861ec53e\n",
       "1        0008d7ebeb88886c8da5df07ac2d075f\n",
       "2        000b3314b6b5b91bc91a13ee9a87da25\n",
       "3        000e77c27e3910bdb783165635a05fdd\n",
       "4        001446e6bb2cc2e5d235da1635d21677\n",
       "                       ...               \n",
       "10763    ffd1e480e1d8ab660c515da4175e7b45\n",
       "10765    ffda702c2f7ef64da4312e2a1e3a43b3\n",
       "10767    fff3ef21e6fa2a624602820b97f9246c\n",
       "10768    fff9c0126292c7cc93ca9ce72f3829a5\n",
       "10769    fffb50df95231c0f090b5aa3f5332c7f\n",
       "Name: client_id, Length: 7849, dtype: object"
      ]
     },
     "execution_count": 63,
     "metadata": {},
     "output_type": "execute_result"
    }
   ],
   "source": [
    "# 3 criteria\n",
    "client_to_max_check_pos = data_to_use.groupby('chq_id', as_index=False).max()[['chq_position', 'client_id']].sort_values('client_id')\n",
    "mean_check_size = client_to_max_check_pos.groupby('client_id', as_index=False).mean()[['chq_position', 'client_id']]\n",
    "clients_for_3 = mean_check_size.loc[mean_check_size['chq_position'] > 6]['client_id']\n",
    "clients_for_3"
   ]
  },
  {
   "cell_type": "code",
   "execution_count": 64,
   "metadata": {},
   "outputs": [
    {
     "data": {
      "text/plain": [
       "25       006d9197e17b8f6b7f25d0ccc6d2d694\n",
       "254      064bad56156ed75bcb39f75dd2e88828\n",
       "263      067433a4aa9da6ca97628255b8c6a217\n",
       "357      0896fd2945a7fe162d48f28628d62c9b\n",
       "589      0e19e4fa78e68f7902092632d92751d0\n",
       "                       ...               \n",
       "10515    f95169d1591dc0c52daa8abd9f5cdc6d\n",
       "10517    f960a1a34ef80a53953684df4792b815\n",
       "10562    fa6b3f8cb178d420dde95c2fed0df9d0\n",
       "10620    fc00fe5c1373859774089b70ccf5c640\n",
       "10750    ff94fe4fac391f9c08616fd06117dfe5\n",
       "Name: client_id, Length: 167, dtype: object"
      ]
     },
     "execution_count": 64,
     "metadata": {},
     "output_type": "execute_result"
    }
   ],
   "source": [
    "# 4 criteria\n",
    "from pandas.api.types import is_numeric_dtype\n",
    "def mean_str(col):\n",
    "    if is_numeric_dtype(col):\n",
    "        return col.mean()\n",
    "    else:\n",
    "        return col.max()\n",
    "\n",
    "\n",
    "chq_id_to_sales_count = data_to_use.groupby('chq_id', as_index=False).agg(mean_str).sort_values('client_id').groupby('client_id', as_index=False).mean()\n",
    "clients_for_4 = chq_id_to_sales_count.loc[chq_id_to_sales_count['sales_count'] > 3]['client_id']\n",
    "clients_for_4"
   ]
  },
  {
   "cell_type": "code",
   "execution_count": 65,
   "metadata": {},
   "outputs": [
    {
     "data": {
      "text/plain": [
       "4914     7507b5dc555ea7fc1badb57ca9784153\n",
       "3518     549cb8d1aa658a6685a098e45f26d7b8\n",
       "8505     ca972e6131b8abe174c6df776fc154ac\n",
       "10103    efc64ace5132a8be8d0dcbd62cee6739\n",
       "7921     bb58490e1e6075cfe35c22631983f16d\n",
       "                       ...               \n",
       "7355     aeaee3d04ac81c8424b446ca6648deba\n",
       "3936     5dfea5bb300209e264ab535297f5d130\n",
       "1075     19f209f602dcd37bcd139fb0b69cfa08\n",
       "9599     e2f0203f34abd99b3af240aafcd47631\n",
       "3734     596f837a638189cb15e9d4b144dd45c4\n",
       "Name: client_id, Length: 1945, dtype: object"
      ]
     },
     "execution_count": 65,
     "metadata": {},
     "output_type": "execute_result"
    }
   ],
   "source": [
    "# 2 criteria\n",
    "chq_to_client = data_to_use[['chq_id', 'client_id']].groupby(by='chq_id', as_index=False).first()\n",
    "check_data = data_to_use.groupby(by='chq_id', as_index=False).sum()\n",
    "chq_and_client = check_data.merge(chq_to_client)\n",
    "client_median_sales_sorted = chq_and_client.groupby('client_id', as_index=False).median().sort_values(by='sales_sum')\n",
    "\n",
    "bins = [0, 50, 500, 1000, 1500, 5000, 10000, 100000]\n",
    "labels = [1,2,3,4,5,6, 7]\n",
    "client_median_sales_sorted_labeled = client_median_sales_sorted\n",
    "client_median_sales_sorted_labeled['spend_group'] = pd.cut(client_median_sales_sorted['sales_sum'], bins, labels=labels)\n",
    "client_median_sales_sorted_labeled\n",
    "clients_for_2 = client_median_sales_sorted_labeled.loc[client_median_sales_sorted_labeled['spend_group'] > 4]['client_id']\n",
    "clients_for_2"
   ]
  },
  {
   "cell_type": "code",
   "execution_count": 72,
   "metadata": {},
   "outputs": [],
   "source": [
    "i1 = pd.Series(np.intersect1d(clients_for_2,clients_for_3))"
   ]
  },
  {
   "cell_type": "code",
   "execution_count": 73,
   "metadata": {},
   "outputs": [
    {
     "data": {
      "text/plain": [
       "(1938,)"
      ]
     },
     "execution_count": 73,
     "metadata": {},
     "output_type": "execute_result"
    }
   ],
   "source": [
    "i1.shape\n"
   ]
  },
  {
   "cell_type": "markdown",
   "metadata": {},
   "source": [
    "### People who have a family"
   ]
  },
  {
   "cell_type": "code",
   "execution_count": 68,
   "metadata": {},
   "outputs": [
    {
     "data": {
      "text/plain": [
       "0     0f29560c703ab82a95b73a539afb479d\n",
       "1     1f85db763fb8a252ff94102cddcf098f\n",
       "2     250dd08136e1ec17abbfca92c536b0c8\n",
       "3     255fbc1cb2ee730aa2f3ecccd4a8b1ab\n",
       "4     2611b97bec2d0e32113050a5ff21b14e\n",
       "5     33a2fcdb9d6b557eee234515ec29cb80\n",
       "6     3418f89755bc6430fdcf28764acd24b9\n",
       "7     3b78a0ce89dea4c5dcff4bf55113f28e\n",
       "8     3e79089de1112db8ec320c1e7d778769\n",
       "9     423de53eb432daa7273f65b1ef4368f0\n",
       "10    436a3c885dc8ecf5597f41b5d735edd0\n",
       "11    46ad42709b80e34da854d822b607f938\n",
       "12    544462c4199b2e6fa4341ea16c5ab139\n",
       "13    5b437b9ed32e867f870d4d3db096fbdb\n",
       "14    5b5957c63d13821ad1c29e1a585a7825\n",
       "15    5d70752b6e491c928b00965f9e446ebc\n",
       "16    6275fb26853cb2b5f7c32d7fb8c591e2\n",
       "17    63857395bc7c56d1d88d66d4807773c6\n",
       "18    670d0dd46a7794794e6a15333364f28a\n",
       "19    68b7385e98dba46b73f1d122e18d397e\n",
       "20    6d7487549a3f8f2672068d9ce3045f5e\n",
       "21    6ee9e5762ed18b322ce4fac4246c5b54\n",
       "22    6f69776f5a941fef89cde78ea64f93c4\n",
       "23    7352121524a390d96cc3933515561454\n",
       "24    78d502f127364a898874122577bc2ff2\n",
       "25    7a145f853a989c835d607994720baf1d\n",
       "26    8130c371127b1d6635e1a90ccf94bf05\n",
       "27    81c872a7c1a187dd4c9eb7fc39cd2e1b\n",
       "28    8fc96827c9d65d5894bd16e4cc5fa1b0\n",
       "29    9a2e491fd4fe31db6d5a6401576ca2e0\n",
       "30    aeaee3d04ac81c8424b446ca6648deba\n",
       "31    bd922d7f6b3cd956bd0e93b3b9b2e377\n",
       "32    c6b1461564e8f6d0f81310274a860716\n",
       "33    d11801248b7e5111efd1eb3fe34d776d\n",
       "34    e0d0cd687ef0a7159e6d1427eae50736\n",
       "35    eb1a1e73078cf52d6c2b07995f49a1e3\n",
       "36    ef8df820f0b9adc3aa80ec474dbacaed\n",
       "37    f3299411c997afb5c5414f84579197dc\n",
       "38    f55286341ac047ca69ddcc6d699fbb1e\n",
       "39    f82a8de1c98e0cd4fe8565266dc41b98\n",
       "dtype: object"
      ]
     },
     "execution_count": 68,
     "metadata": {},
     "output_type": "execute_result"
    }
   ],
   "source": [
    "pd.Series(np.intersect1d(i1,clients_for_4))"
   ]
  },
  {
   "cell_type": "code",
   "execution_count": 69,
   "metadata": {},
   "outputs": [
    {
     "data": {
      "text/html": [
       "<div>\n",
       "<style scoped>\n",
       "    .dataframe tbody tr th:only-of-type {\n",
       "        vertical-align: middle;\n",
       "    }\n",
       "\n",
       "    .dataframe tbody tr th {\n",
       "        vertical-align: top;\n",
       "    }\n",
       "\n",
       "    .dataframe thead th {\n",
       "        text-align: right;\n",
       "    }\n",
       "</style>\n",
       "<table border=\"1\" class=\"dataframe\">\n",
       "  <thead>\n",
       "    <tr style=\"text-align: right;\">\n",
       "      <th></th>\n",
       "      <th>chq_id</th>\n",
       "      <th>plant</th>\n",
       "      <th>chq_date</th>\n",
       "      <th>chq_position</th>\n",
       "      <th>client_id</th>\n",
       "      <th>material</th>\n",
       "      <th>sales_count</th>\n",
       "      <th>sales_sum</th>\n",
       "      <th>is_promo</th>\n",
       "    </tr>\n",
       "  </thead>\n",
       "  <tbody>\n",
       "    <tr>\n",
       "      <th>1103867</th>\n",
       "      <td>8ff42a78e7ddb702ad418e5108011432</td>\n",
       "      <td>c2e38e55597ae43748ae552b614f5317</td>\n",
       "      <td>2016-11-01</td>\n",
       "      <td>011</td>\n",
       "      <td>423de53eb432daa7273f65b1ef4368f0</td>\n",
       "      <td>8c90ebf45a1be0125f5ad235f926cd08</td>\n",
       "      <td>1.000</td>\n",
       "      <td>90.19</td>\n",
       "      <td>0</td>\n",
       "    </tr>\n",
       "    <tr>\n",
       "      <th>1103868</th>\n",
       "      <td>8ff42a78e7ddb702ad418e5108011432</td>\n",
       "      <td>c2e38e55597ae43748ae552b614f5317</td>\n",
       "      <td>2016-11-01</td>\n",
       "      <td>015</td>\n",
       "      <td>423de53eb432daa7273f65b1ef4368f0</td>\n",
       "      <td>cb78ef61b336c96cab7b0166df3e49f0</td>\n",
       "      <td>1.000</td>\n",
       "      <td>77.49</td>\n",
       "      <td>0</td>\n",
       "    </tr>\n",
       "    <tr>\n",
       "      <th>1103869</th>\n",
       "      <td>8ff42a78e7ddb702ad418e5108011432</td>\n",
       "      <td>c2e38e55597ae43748ae552b614f5317</td>\n",
       "      <td>2016-11-01</td>\n",
       "      <td>010</td>\n",
       "      <td>423de53eb432daa7273f65b1ef4368f0</td>\n",
       "      <td>e6977cdd5b5619e8cdb5289378e67fe8</td>\n",
       "      <td>1.000</td>\n",
       "      <td>16.09</td>\n",
       "      <td>0</td>\n",
       "    </tr>\n",
       "    <tr>\n",
       "      <th>1103870</th>\n",
       "      <td>8ff42a78e7ddb702ad418e5108011432</td>\n",
       "      <td>c2e38e55597ae43748ae552b614f5317</td>\n",
       "      <td>2016-11-01</td>\n",
       "      <td>014</td>\n",
       "      <td>423de53eb432daa7273f65b1ef4368f0</td>\n",
       "      <td>198e95b5ce565833cc0bda57b146f9b4</td>\n",
       "      <td>0.352</td>\n",
       "      <td>178.92</td>\n",
       "      <td>0</td>\n",
       "    </tr>\n",
       "    <tr>\n",
       "      <th>1103871</th>\n",
       "      <td>8ff42a78e7ddb702ad418e5108011432</td>\n",
       "      <td>c2e38e55597ae43748ae552b614f5317</td>\n",
       "      <td>2016-11-01</td>\n",
       "      <td>002</td>\n",
       "      <td>423de53eb432daa7273f65b1ef4368f0</td>\n",
       "      <td>55d0ee60038ce36f0eff90f9cb6d98d2</td>\n",
       "      <td>1.000</td>\n",
       "      <td>45.49</td>\n",
       "      <td>1</td>\n",
       "    </tr>\n",
       "    <tr>\n",
       "      <th>...</th>\n",
       "      <td>...</td>\n",
       "      <td>...</td>\n",
       "      <td>...</td>\n",
       "      <td>...</td>\n",
       "      <td>...</td>\n",
       "      <td>...</td>\n",
       "      <td>...</td>\n",
       "      <td>...</td>\n",
       "      <td>...</td>\n",
       "    </tr>\n",
       "    <tr>\n",
       "      <th>30287888</th>\n",
       "      <td>604f24210562f74874ccfb4ca7aba1c8</td>\n",
       "      <td>c2e38e55597ae43748ae552b614f5317</td>\n",
       "      <td>2016-10-04</td>\n",
       "      <td>011</td>\n",
       "      <td>423de53eb432daa7273f65b1ef4368f0</td>\n",
       "      <td>c8ac520562ba934dd67cbf0f060c4252</td>\n",
       "      <td>13.336</td>\n",
       "      <td>1320.13</td>\n",
       "      <td>1</td>\n",
       "    </tr>\n",
       "    <tr>\n",
       "      <th>30287889</th>\n",
       "      <td>604f24210562f74874ccfb4ca7aba1c8</td>\n",
       "      <td>c2e38e55597ae43748ae552b614f5317</td>\n",
       "      <td>2016-10-04</td>\n",
       "      <td>008</td>\n",
       "      <td>423de53eb432daa7273f65b1ef4368f0</td>\n",
       "      <td>c8ac520562ba934dd67cbf0f060c4252</td>\n",
       "      <td>1.398</td>\n",
       "      <td>138.39</td>\n",
       "      <td>1</td>\n",
       "    </tr>\n",
       "    <tr>\n",
       "      <th>30287890</th>\n",
       "      <td>604f24210562f74874ccfb4ca7aba1c8</td>\n",
       "      <td>c2e38e55597ae43748ae552b614f5317</td>\n",
       "      <td>2016-10-04</td>\n",
       "      <td>012</td>\n",
       "      <td>423de53eb432daa7273f65b1ef4368f0</td>\n",
       "      <td>c8ac520562ba934dd67cbf0f060c4252</td>\n",
       "      <td>13.154</td>\n",
       "      <td>1302.11</td>\n",
       "      <td>1</td>\n",
       "    </tr>\n",
       "    <tr>\n",
       "      <th>30287891</th>\n",
       "      <td>604f24210562f74874ccfb4ca7aba1c8</td>\n",
       "      <td>c2e38e55597ae43748ae552b614f5317</td>\n",
       "      <td>2016-10-04</td>\n",
       "      <td>032</td>\n",
       "      <td>423de53eb432daa7273f65b1ef4368f0</td>\n",
       "      <td>c8ac520562ba934dd67cbf0f060c4252</td>\n",
       "      <td>13.520</td>\n",
       "      <td>1338.34</td>\n",
       "      <td>1</td>\n",
       "    </tr>\n",
       "    <tr>\n",
       "      <th>30287892</th>\n",
       "      <td>604f24210562f74874ccfb4ca7aba1c8</td>\n",
       "      <td>c2e38e55597ae43748ae552b614f5317</td>\n",
       "      <td>2016-10-04</td>\n",
       "      <td>007</td>\n",
       "      <td>423de53eb432daa7273f65b1ef4368f0</td>\n",
       "      <td>c8ac520562ba934dd67cbf0f060c4252</td>\n",
       "      <td>1.688</td>\n",
       "      <td>167.10</td>\n",
       "      <td>1</td>\n",
       "    </tr>\n",
       "  </tbody>\n",
       "</table>\n",
       "<p>708 rows × 9 columns</p>\n",
       "</div>"
      ],
      "text/plain": [
       "                                    chq_id                             plant  \\\n",
       "1103867   8ff42a78e7ddb702ad418e5108011432  c2e38e55597ae43748ae552b614f5317   \n",
       "1103868   8ff42a78e7ddb702ad418e5108011432  c2e38e55597ae43748ae552b614f5317   \n",
       "1103869   8ff42a78e7ddb702ad418e5108011432  c2e38e55597ae43748ae552b614f5317   \n",
       "1103870   8ff42a78e7ddb702ad418e5108011432  c2e38e55597ae43748ae552b614f5317   \n",
       "1103871   8ff42a78e7ddb702ad418e5108011432  c2e38e55597ae43748ae552b614f5317   \n",
       "...                                    ...                               ...   \n",
       "30287888  604f24210562f74874ccfb4ca7aba1c8  c2e38e55597ae43748ae552b614f5317   \n",
       "30287889  604f24210562f74874ccfb4ca7aba1c8  c2e38e55597ae43748ae552b614f5317   \n",
       "30287890  604f24210562f74874ccfb4ca7aba1c8  c2e38e55597ae43748ae552b614f5317   \n",
       "30287891  604f24210562f74874ccfb4ca7aba1c8  c2e38e55597ae43748ae552b614f5317   \n",
       "30287892  604f24210562f74874ccfb4ca7aba1c8  c2e38e55597ae43748ae552b614f5317   \n",
       "\n",
       "           chq_date chq_position                         client_id  \\\n",
       "1103867  2016-11-01          011  423de53eb432daa7273f65b1ef4368f0   \n",
       "1103868  2016-11-01          015  423de53eb432daa7273f65b1ef4368f0   \n",
       "1103869  2016-11-01          010  423de53eb432daa7273f65b1ef4368f0   \n",
       "1103870  2016-11-01          014  423de53eb432daa7273f65b1ef4368f0   \n",
       "1103871  2016-11-01          002  423de53eb432daa7273f65b1ef4368f0   \n",
       "...             ...          ...                               ...   \n",
       "30287888 2016-10-04          011  423de53eb432daa7273f65b1ef4368f0   \n",
       "30287889 2016-10-04          008  423de53eb432daa7273f65b1ef4368f0   \n",
       "30287890 2016-10-04          012  423de53eb432daa7273f65b1ef4368f0   \n",
       "30287891 2016-10-04          032  423de53eb432daa7273f65b1ef4368f0   \n",
       "30287892 2016-10-04          007  423de53eb432daa7273f65b1ef4368f0   \n",
       "\n",
       "                                  material  sales_count  sales_sum  is_promo  \n",
       "1103867   8c90ebf45a1be0125f5ad235f926cd08        1.000      90.19         0  \n",
       "1103868   cb78ef61b336c96cab7b0166df3e49f0        1.000      77.49         0  \n",
       "1103869   e6977cdd5b5619e8cdb5289378e67fe8        1.000      16.09         0  \n",
       "1103870   198e95b5ce565833cc0bda57b146f9b4        0.352     178.92         0  \n",
       "1103871   55d0ee60038ce36f0eff90f9cb6d98d2        1.000      45.49         1  \n",
       "...                                    ...          ...        ...       ...  \n",
       "30287888  c8ac520562ba934dd67cbf0f060c4252       13.336    1320.13         1  \n",
       "30287889  c8ac520562ba934dd67cbf0f060c4252        1.398     138.39         1  \n",
       "30287890  c8ac520562ba934dd67cbf0f060c4252       13.154    1302.11         1  \n",
       "30287891  c8ac520562ba934dd67cbf0f060c4252       13.520    1338.34         1  \n",
       "30287892  c8ac520562ba934dd67cbf0f060c4252        1.688     167.10         1  \n",
       "\n",
       "[708 rows x 9 columns]"
      ]
     },
     "execution_count": 69,
     "metadata": {},
     "output_type": "execute_result"
    }
   ],
   "source": [
    "trans[trans['client_id'].isin(['423de53eb432daa7273f65b1ef4368f0'])]"
   ]
  },
  {
   "cell_type": "code",
   "execution_count": null,
   "metadata": {},
   "outputs": [],
   "source": []
  },
  {
   "cell_type": "code",
   "execution_count": null,
   "metadata": {},
   "outputs": [],
   "source": []
  },
  {
   "cell_type": "code",
   "execution_count": null,
   "metadata": {},
   "outputs": [],
   "source": []
  }
 ],
 "metadata": {
  "kernelspec": {
   "display_name": "Python 3",
   "language": "python",
   "name": "python3"
  },
  "language_info": {
   "codemirror_mode": {
    "name": "ipython",
    "version": 3
   },
   "file_extension": ".py",
   "mimetype": "text/x-python",
   "name": "python",
   "nbconvert_exporter": "python",
   "pygments_lexer": "ipython3",
   "version": "3.8.5"
  }
 },
 "nbformat": 4,
 "nbformat_minor": 4
}
